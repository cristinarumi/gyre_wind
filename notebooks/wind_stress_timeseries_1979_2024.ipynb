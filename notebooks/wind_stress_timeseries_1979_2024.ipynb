{
 "cells": [
  {
   "cell_type": "code",
   "execution_count": 2,
   "id": "b587c29b",
   "metadata": {},
   "outputs": [
    {
     "name": "stdout",
     "output_type": "stream",
     "text": [
      "Daily mean time series created and saved as daily_mean_u_wind_data_1979_2023.nc\n"
     ]
    }
   ],
   "source": [
    "import xarray as xr\n",
    "import os\n",
    "\n",
    "# Directory where the NetCDF files are stored\n",
    "data_dir = '/Users/cristinaarumiplanas/Documents/Papers_Cristina/University_Hamburg/Sverdrup/Data/Winds/u_component/'\n",
    "\n",
    "# List of files for all years (1979 to 2024)\n",
    "file_paths = [os.path.join(data_dir, f\"u_wind_data_{year}.nc\") for year in range(1979, 2024)]\n",
    "\n",
    "# Load all datasets and extract 'v10' variable\n",
    "datasets = [xr.open_dataset(file_path)['u10'] for file_path in file_paths]\n",
    "\n",
    "# Concatenate along the time dimension\n",
    "combined_u10 = xr.concat(datasets, dim='time')\n",
    "\n",
    "# Resample to daily means\n",
    "daily_mean_u10 = combined_u10.resample(time='1D').mean()\n",
    "\n",
    "# Save the daily mean dataset to a new NetCDF file\n",
    "daily_mean_u10.to_netcdf('/Users/cristinaarumiplanas/Documents/Papers_Cristina/University_Hamburg/Sverdrup/Data/Winds/v_component/daily_mean_u_wind_data_1979_2023.nc')\n",
    "\n",
    "print(\"Daily mean time series created and saved as daily_mean_u_wind_data_1979_2023.nc\")\n"
   ]
  },
  {
   "cell_type": "code",
   "execution_count": null,
   "id": "e78dab08",
   "metadata": {},
   "outputs": [],
   "source": [
    "import xarray as xr\n",
    "import os\n",
    "# Directory where the NetCDF files are stored\n",
    "data_dir = '/Users/cristinaarumiplanas/Documents/Papers_Cristina/University_Hamburg/Sverdrup/Data/Winds/v_component/'\n",
    "\n",
    "# List of files for all years (1979 to 2024)\n",
    "file_paths = [os.path.join(data_dir, f\"v_wind_data_{year}.nc\") for year in range(1979, 2024)]\n",
    "\n",
    "# Load all datasets and extract 'u10' variable\n",
    "datasets = [xr.open_dataset(file_path)['v10'] for file_path in file_paths]\n",
    "\n",
    "# Concatenate along the time dimension\n",
    "combined_v10 = xr.concat(datasets, dim='time')\n",
    "\n",
    "# Save the combined dataset to a new NetCDF file\n",
    "combined_v10.to_netcdf('/Users/cristinaarumiplanas/Documents/Papers_Cristina/University_Hamburg/Sverdrup/Data/Winds/v_component/combined_v_wind_data_1979_2024.nc')\n",
    "\n",
    "print(\"Time series created and saved as combined_v_wind_data_1979_2023.nc\")"
   ]
  },
  {
   "cell_type": "code",
   "execution_count": 1,
   "id": "4fae2b75",
   "metadata": {},
   "outputs": [
    {
     "name": "stdout",
     "output_type": "stream",
     "text": [
      "Time series created and saved as combined_u_wind_data_1979_2024.nc\n"
     ]
    }
   ],
   "source": [
    "#import xarray as xr\n",
    "import os\n",
    "\n",
    "# Directory where the NetCDF files are stored\n",
    "data_dir = '/Users/cristinaarumiplanas/Documents/Papers_Cristina/University_Hamburg/Sverdrup/Data/Winds/u_component/'\n",
    "\n",
    "# List of files for all years (1979 to 2024)\n",
    "file_paths = [os.path.join(data_dir, f\"u_wind_data_{year}.nc\") for year in range(1979, 2025)]\n",
    "\n",
    "# Load all datasets and extract 'u10' variable\n",
    "datasets = [xr.open_dataset(file_path)['u10'] for file_path in file_paths]\n",
    "\n",
    "# Concatenate along the time dimension\n",
    "combined_u10 = xr.concat(datasets, dim='time')\n",
    "\n",
    "# Save the combined dataset to a new NetCDF file\n",
    "combined_u10.to_netcdf('/Users/cristinaarumiplanas/Documents/Papers_Cristina/University_Hamburg/Sverdrup/Data/Winds/u_component/combined_u_wind_data_1979_2024.nc')\n",
    "\n",
    "print(\"Time series created and saved as combined_u_wind_data_1979_2024.nc\")\n"
   ]
  },
  {
   "cell_type": "code",
   "execution_count": null,
   "id": "2120131f",
   "metadata": {},
   "outputs": [],
   "source": []
  }
 ],
 "metadata": {
  "kernelspec": {
   "display_name": "Python 3 (ipykernel)",
   "language": "python",
   "name": "python3"
  },
  "language_info": {
   "codemirror_mode": {
    "name": "ipython",
    "version": 3
   },
   "file_extension": ".py",
   "mimetype": "text/x-python",
   "name": "python",
   "nbconvert_exporter": "python",
   "pygments_lexer": "ipython3",
   "version": "3.10.8"
  }
 },
 "nbformat": 4,
 "nbformat_minor": 5
}
